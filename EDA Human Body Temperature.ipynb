{
 "cells": [
  {
   "cell_type": "markdown",
   "metadata": {},
   "source": [
    "# What is the True Normal Human Body Temperature? \n",
    "\n",
    "#### Background\n",
    "\n",
    "The mean normal body temperature was held to be 37$^{\\circ}$C or 98.6$^{\\circ}$F for more than 120 years since it was first conceptualized and reported by Carl Wunderlich in a famous 1868 book. But, is this value statistically correct?"
   ]
  },
  {
   "cell_type": "markdown",
   "metadata": {},
   "source": [
    "# <h3>Exercises</h3>\n",
    "\n",
    "<p>In this exercise, you will analyze a dataset of human body temperatures and employ the concepts of hypothesis testing, confidence intervals, and statistical significance.</p>\n",
    "\n",
    "<p>Answer the following questions <b>in this notebook below and submit to your Github account</b>.</p> \n",
    "\n",
    "<ol>\n",
    "<li>  Is the distribution of body temperatures normal? \n",
    "    <ul>\n",
    "    <li> Although this is not a requirement for the Central Limit Theorem to hold (read the introduction on Wikipedia's page about the CLT carefully: https://en.wikipedia.org/wiki/Central_limit_theorem), it gives us some peace of mind that the population may also be normally distributed if we assume that this sample is representative of the population.\n",
    "    <li> Think about the way you're going to check for the normality of the distribution. Graphical methods are usually used first, but there are also other ways: https://en.wikipedia.org/wiki/Normality_test\n",
    "    </ul>\n",
    "<li>  Is the sample size large? Are the observations independent?\n",
    "    <ul>\n",
    "    <li> Remember that this is a condition for the Central Limit Theorem, and hence the statistical tests we are using, to apply.\n",
    "    </ul>\n",
    "<li>  Is the true population mean really 98.6 degrees F?\n",
    "    <ul>\n",
    "    <li> First, try a bootstrap hypothesis test.\n",
    "    <li> Now, let's try frequentist statistical testing. Would you use a one-sample or two-sample test? Why?\n",
    "    <li> In this situation, is it appropriate to use the $t$ or $z$ statistic? \n",
    "    <li> Now try using the other test. How is the result be different? Why?\n",
    "    </ul>\n",
    "<li>  Draw a small sample of size 10 from the data and repeat both frequentist tests. \n",
    "    <ul>\n",
    "    <li> Which one is the correct one to use? \n",
    "    <li> What do you notice? What does this tell you about the difference in application of the $t$ and $z$ statistic?\n",
    "    </ul>\n",
    "<li>  At what temperature should we consider someone's temperature to be \"abnormal\"?\n",
    "    <ul>\n",
    "    <li> As in the previous example, try calculating everything using the boostrap approach, as well as the frequentist approach.\n",
    "    <li> Start by computing the margin of error and confidence interval. When calculating the confidence interval, keep in mind that you should use the appropriate formula for one draw, and not N draws.\n",
    "    </ul>\n",
    "<li>  Is there a significant difference between males and females in normal temperature?\n",
    "    <ul>\n",
    "    <li> What testing approach did you use and why?\n",
    "    <li> Write a story with your conclusion in the context of the original problem.\n",
    "    </ul>\n",
    "</ol>\n",
    "\n",
    "You can include written notes in notebook cells using Markdown: \n",
    "   - In the control panel at the top, choose Cell > Cell Type > Markdown\n",
    "   - Markdown syntax: http://nestacms.com/docs/creating-content/markdown-cheat-sheet\n",
    "\n",
    "#### Resources\n",
    "\n",
    "+ Information and data sources: http://www.amstat.org/publications/jse/datasets/normtemp.txt, http://www.amstat.org/publications/jse/jse_data_archive.htm\n",
    "+ Markdown syntax: http://nestacms.com/docs/creating-content/markdown-cheat-sheet\n",
    "\n",
    "****"
   ]
  },
  {
   "cell_type": "code",
   "execution_count": 1,
   "metadata": {},
   "outputs": [],
   "source": [
    "import pandas as pd\n",
    "\n",
    "df = pd.read_csv('data/human_body_temperature.csv')"
   ]
  },
  {
   "cell_type": "code",
   "execution_count": 2,
   "metadata": {},
   "outputs": [
    {
     "data": {
      "text/plain": [
       "Text(0.5,1,'Temperature Histogram')"
      ]
     },
     "execution_count": 2,
     "metadata": {},
     "output_type": "execute_result"
    }
   ],
   "source": [
    "import numpy as np\n",
    "import pandas as pd\n",
    "import scipy.stats as stats\n",
    "import matplotlib.pyplot as plt\n",
    "import seaborn as sns\n",
    "\n",
    "plt.hist(df.temperature)\n",
    "plt.xlabel(\"Temperature\")\n",
    "plt.ylabel(\"Frequency\")\n",
    "plt.title(\"Temperature Histogram\")"
   ]
  },
  {
   "cell_type": "code",
   "execution_count": 3,
   "metadata": {},
   "outputs": [],
   "source": [
    "#1.Is the distribution of body temperatures normal?"
   ]
  },
  {
   "cell_type": "markdown",
   "metadata": {},
   "source": [
    "Based soley on the histogram, the data looks normally distributed. However, I will test for normality using the Shapiro-Wilks \n",
    "test below. The null hypothesis of the Shapiro-Wilks test is that the population is normally distributed."
   ]
  },
  {
   "cell_type": "code",
   "execution_count": 4,
   "metadata": {},
   "outputs": [
    {
     "data": {
      "text/plain": [
       "(0.9865769743919373, 0.2331680953502655)"
      ]
     },
     "execution_count": 4,
     "metadata": {},
     "output_type": "execute_result"
    }
   ],
   "source": [
    "stats.shapiro(df.temperature)"
   ]
  },
  {
   "cell_type": "markdown",
   "metadata": {},
   "source": [
    "Since the p-value (0.2331680953502655) is > 0.05, we do not have enough evidence to reject the null hypothesis that the \n",
    "distribution is normal."
   ]
  },
  {
   "cell_type": "code",
   "execution_count": 5,
   "metadata": {},
   "outputs": [
    {
     "name": "stdout",
     "output_type": "stream",
     "text": [
      "<class 'pandas.core.frame.DataFrame'>\n",
      "RangeIndex: 130 entries, 0 to 129\n",
      "Data columns (total 3 columns):\n",
      "temperature    130 non-null float64\n",
      "gender         130 non-null object\n",
      "heart_rate     130 non-null float64\n",
      "dtypes: float64(2), object(1)\n",
      "memory usage: 3.1+ KB\n"
     ]
    },
    {
     "data": {
      "text/plain": [
       "(130, 3)"
      ]
     },
     "execution_count": 5,
     "metadata": {},
     "output_type": "execute_result"
    }
   ],
   "source": [
    "#2. Is the sample size large? Are the observations independent? \n",
    "df.info()\n",
    "df.shape"
   ]
  },
  {
   "cell_type": "markdown",
   "metadata": {},
   "source": [
    "With 130 observations, it is safe to say the sample size is large enough to meet the requirements of the CLT. It can also be\n",
    "assumed that the data is random and independent. This allows us to "
   ]
  },
  {
   "cell_type": "code",
   "execution_count": 12,
   "metadata": {},
   "outputs": [
    {
     "name": "stdout",
     "output_type": "stream",
     "text": [
      "p= 0.0000000000\n"
     ]
    }
   ],
   "source": [
    "#3. Is the true population mean really 98.6 degrees F?\n",
    "\"\"\"Bootstrap test: (1 sample bootstrap test because we are comparing a sinlge number (mean of 98.6) to an array). Our test \n",
    "statistic is the difference of means.\n",
    "Null Hypothesis: The true population mean of temperature is 98.6 degrees F. \n",
    "We must simulate the situation where the true mean of the temperature is equal to 98.6. To do this, we must shift the value of\n",
    "the sample mean to equal 98.6. \n",
    "We must define two functions, one to generate a bootstrap replicate of 1 dimensional data and another to generate many\n",
    "bootstrap replicates for our hypothesis test:\"\"\"\n",
    "def bootstrap_replicate_1d(data, func):\n",
    "    return func(np.random.choice(data, size=len(data)))\n",
    "\n",
    "def draw_bs_reps(data, func, size=1):\n",
    "    \"\"\"Draw bootstrap replicates.\"\"\"\n",
    "\n",
    "    # Initialize array of replicates: bs_replicates\n",
    "    bs_replicates = np.empty(size)\n",
    "\n",
    "    # Generate replicates\n",
    "    for i in range(size):\n",
    "        bs_replicates[i] = bootstrap_replicate_1d(data, func)\n",
    "\n",
    "    return bs_replicates\n",
    "\n",
    "\"\"\"Shifting data:\"\"\"\n",
    "test_mean = 98.6\n",
    "temp_shifted = df.temperature - np.mean(df.temperature) + test_mean\n",
    "\n",
    "\"\"\"We must define another function in order to calcualte the test statistic, diff_obs:\"\"\"\n",
    "def diff_from_test_mean(data, test_mean=98.6):\n",
    "    return np.mean(data) - test_mean\n",
    "\n",
    "diff_obs = diff_from_test_mean(df.temperature)\n",
    "\n",
    "\"\"\"Next, we generate the 10000 bootstrap replicates and compute the p-value:\"\"\"\n",
    "bs_replicates = draw_bs_reps(temp_shifted, diff_from_test_mean, 10000)\n",
    "\n",
    "p = (np.sum(bs_replicates <= diff_obs) / 10000)\n",
    "print('p= {:1.10f}'.format(p))"
   ]
  },
  {
   "cell_type": "markdown",
   "metadata": {},
   "source": [
    "Since the bootstrap replicate p value < 0.05 we can reject the null hypothesis that the true mean is 98.6. "
   ]
  },
  {
   "cell_type": "code",
   "execution_count": 13,
   "metadata": {},
   "outputs": [
    {
     "name": "stdout",
     "output_type": "stream",
     "text": [
      "The t-statistic is -5.455 and the p-value is 0.0000002\n"
     ]
    }
   ],
   "source": [
    "\"\"\"Now we will try a one sample t-statistic test as we do not know the population standard deviation\"\"\"\n",
    "t_stat, pvalue = stats.ttest_1samp(df.temperature, test_mean)\n",
    "print(\"The t-statistic is {:1.3f} and the p-value is {:1.7f}\".format(t_stat, pvalue))"
   ]
  },
  {
   "cell_type": "code",
   "execution_count": 14,
   "metadata": {},
   "outputs": [
    {
     "name": "stdout",
     "output_type": "stream",
     "text": [
      "The z-statistic is -5.476 and the p-value is 0.00000004\n"
     ]
    }
   ],
   "source": [
    "\"\"\"Next we will try the z-statistic\"\"\"\n",
    "n = len(df.temperature)\n",
    "se = np.std(df.temperature)/np.sqrt(n)\n",
    "z_stat = (np.mean(df.temperature) - 98.6)/se\n",
    "p_value = stats.norm.sf(np.abs(z_stat))*2\n",
    "print(\"The z-statistic is {:1.3f} and the p-value is {:1.8f}\".format(z_stat, p_value))"
   ]
  },
  {
   "cell_type": "code",
   "execution_count": 10,
   "metadata": {},
   "outputs": [
    {
     "data": {
      "text/plain": [
       "array([97.8, 97.2, 98.6, 97.8, 97.6, 98.8, 98. , 98.2, 98. , 98.6])"
      ]
     },
     "execution_count": 10,
     "metadata": {},
     "output_type": "execute_result"
    }
   ],
   "source": [
    "#4. Draw a small sample of size 10 from the data and repeat both frequentist tests.\n",
    "#Which one is the correct one to use?\n",
    "#What do you notice? What does this tell you about the difference in application of the  t  and  z  statistic?\n",
    "\"\"\"Draw random sample of 10\"\"\"\n",
    "samp10 = np.random.choice(df.temperature, 10)\n",
    "samp10"
   ]
  },
  {
   "cell_type": "code",
   "execution_count": 15,
   "metadata": {},
   "outputs": [],
   "source": [
    "\"\"\"Assign variables\"\"\"\n",
    "samp10 = np.array([97.8, 97.2, 98.6, 97.8, 97.6, 98.8, 98. , 98.2, 98. , 98.6])\n",
    "pop_mean = np.mean(df.temperature)\n",
    "samp10_mean = np.mean(samp10)"
   ]
  },
  {
   "cell_type": "code",
   "execution_count": 16,
   "metadata": {},
   "outputs": [
    {
     "name": "stdout",
     "output_type": "stream",
     "text": [
      "The t-statistic is -1.198 and the p-value is 0.2613652\n"
     ]
    }
   ],
   "source": [
    "\"\"\"First the t-statistic\"\"\"\n",
    "t_stat10, pvalue10 = stats.ttest_1samp(samp10, pop_mean)\n",
    "print(\"The t-statistic is {:1.3f} and the p-value is {:1.7f}\".format(t_stat10, pvalue10))"
   ]
  },
  {
   "cell_type": "code",
   "execution_count": 17,
   "metadata": {},
   "outputs": [
    {
     "name": "stdout",
     "output_type": "stream",
     "text": [
      "The z-statistic is -1.263 and the p-value is 0.00000004\n"
     ]
    }
   ],
   "source": [
    "\"\"\"Next we will try the z-statistic\"\"\"\n",
    "se = np.std(samp10)/np.sqrt(10)\n",
    "z_stat10 = (samp10_mean - pop_mean)/se\n",
    "p_value10 = stats.norm.sf(np.abs(z_stat))*2\n",
    "print(\"The z-statistic is {:1.3f} and the p-value is {:1.8f}\".format(z_stat10, p_value10))"
   ]
  },
  {
   "cell_type": "markdown",
   "metadata": {},
   "source": [
    "Based off the results of each test on the random sample of 10, we see the z-statistic is the correct test to use. This tells me\n",
    "that the z-statistic should be used if the population standard deviation is unknown, even if the sample size is less than 30. "
   ]
  },
  {
   "cell_type": "code",
   "execution_count": 18,
   "metadata": {},
   "outputs": [
    {
     "data": {
      "text/plain": [
       "array([98.12536538, 98.37384615])"
      ]
     },
     "execution_count": 18,
     "metadata": {},
     "output_type": "execute_result"
    }
   ],
   "source": [
    "#5. At what temperature should we consider someone's temperature to be \"abnormal\"?\n",
    "\"\"\"We will compute the 95% confidence interval of the mean using bootstraps technique and functions defined before.\"\"\"\n",
    "bs_replicates_mean = draw_bs_reps(df.temperature, np.mean, 10000)\n",
    "\n",
    "conf_int_95 = np.percentile(bs_replicates_mean, [2.5, 97.5])\n",
    "conf_int_95"
   ]
  },
  {
   "cell_type": "markdown",
   "metadata": {},
   "source": [
    "Based off the 95% confidence interval, we would consider any temperature < 98.125 or > 98.374 to be abnormal."
   ]
  },
  {
   "cell_type": "code",
   "execution_count": 21,
   "metadata": {},
   "outputs": [],
   "source": [
    "#6.Is there a significant difference between males and females in normal temperature?\n",
    "#What testing approach did you use and why?\n",
    "#Write a story with your conclusion in the context of the original problem.\n",
    "\"\"\"Null hypothesis: there is no significant difference between the average temperatures of males and females. We will need to use\n",
    "a two sample bootstrap hypothesis test for difference of means because we are comparing the means of two sample arrays. First we\n",
    "will need ot define the male and female temperature arrays and shift both of the arrays to have the same mean\"\"\"\n",
    "male = df['temperature'][df.gender=='M']\n",
    "female = df['temperature'][df.gender=='F']\n",
    "male_shifted = male - np.mean(male) + np.mean(df.temperature)\n",
    "female_shifted = female - np.mean(female) + np.mean(df.temperature)"
   ]
  },
  {
   "cell_type": "code",
   "execution_count": 22,
   "metadata": {},
   "outputs": [],
   "source": [
    "\"\"\"Now we compute bootstrap replicates from both shifted arrays\"\"\"\n",
    "bs_replicates_male = draw_bs_reps(male_shifted, np.mean, size=10000)\n",
    "bs_replicates_female = draw_bs_reps(female_shifted, np.mean, size=10000)"
   ]
  },
  {
   "cell_type": "code",
   "execution_count": 23,
   "metadata": {},
   "outputs": [],
   "source": [
    "\"\"\"Next we get replicates of difference of means and set the empirical differnece of means \"\"\"\n",
    "bs_replicates_mf = bs_replicates_male - bs_replicates_female\n",
    "empirical_diff_means = np.mean(male) - np.mean(female)"
   ]
  },
  {
   "cell_type": "code",
   "execution_count": 24,
   "metadata": {},
   "outputs": [
    {
     "name": "stdout",
     "output_type": "stream",
     "text": [
      "p = 0.9891\n"
     ]
    }
   ],
   "source": [
    "\"\"\"Finally compute the pvalue\"\"\"\n",
    "p = np.sum(bs_replicates_mf >= empirical_diff_means) / len(bs_replicates_mf)\n",
    "print('p =', p)"
   ]
  },
  {
   "cell_type": "markdown",
   "metadata": {},
   "source": [
    "Since the p-value is greater than 0.05, there is no evidence to reject the null hypothesis. It is likely there is no significant \n",
    "difference between male and female normal temperatures."
   ]
  }
 ],
 "metadata": {
  "kernelspec": {
   "display_name": "Python 3",
   "language": "python",
   "name": "python3"
  },
  "language_info": {
   "codemirror_mode": {
    "name": "ipython",
    "version": 3
   },
   "file_extension": ".py",
   "mimetype": "text/x-python",
   "name": "python",
   "nbconvert_exporter": "python",
   "pygments_lexer": "ipython3",
   "version": "3.7.0"
  }
 },
 "nbformat": 4,
 "nbformat_minor": 1
}
